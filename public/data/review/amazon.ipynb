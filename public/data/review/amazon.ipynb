{
 "metadata": {
  "name": "",
  "signature": "sha256:cca3868ec8618825f1fee8a5a55d8c338019972dd4472aa63738b2743505f7b3"
 },
 "nbformat": 3,
 "nbformat_minor": 0,
 "worksheets": [
  {
   "cells": [
    {
     "cell_type": "code",
     "collapsed": false,
     "input": [
      "from lxml import html\n",
      "import csv\n",
      "import os\n",
      "import requests\n",
      "\n",
      "\n",
      "\n",
      "for i in product:\n",
      "    #lomo = \"http://www.amazon.com/Lomography-Diana-Medium-Format-Camera/product-reviews/B001BPEQDK/ref=cm_cr_getr_d_paging_btm_\"+i+\"?ie=UTF8&showViewpoints=1&sortBy=recent&pageNumber=\"+i\n",
      "    #lomo = \"http://www.amazon.com/Lomography-Diana-Mini-35mm-Camera/product-reviews/B002SSU4AI/ref=cm_cr_getr_d_paging_btm_\"+i+\"?ie=UTF8&showViewpoints=1&sortBy=recent&pageNumber=\"+i\n",
      "    #lomo = \"http://www.amazon.com/Lomographic-Fisheye-Number-2-Camera/product-reviews/B000JFJ06G/ref=cm_cr_getr_d_paging_btm_6?ie=UTF8&showViewpoints=1&sortBy=recent&pageNumber=6\"\n",
      "    #lomo = \"http://www.bhphotovideo.com/c/product/527838-REG/Lomography_561_Diana_Fixed_Focus_Medium.html\"\n",
      "    lomo_page = requests.get(lomo)\n",
      "    lomo_tree = html.fromstring(lomo_page.content)\n",
      "    lomo_company = lomo_tree.xpath('//span[@class=\"a-size-base review-text\"]/text()')\n",
      "    #lomo_company = lomo_tree.xpath('//p/text()')\n",
      "    #lomo_company = lomo_tree.xpath('//div[@class=\"reviews_review_description allow_copy\"]/text()')\n",
      "    #file = \"/Users/Runyu/Desktop/csGOOD/spring16/text_analytics/project/review/fisheye.txt\"\n",
      "    print \"page\",i\n",
      "    print lomo_company\n",
      "\n",
      "            \n",
      "                "
     ],
     "language": "python",
     "metadata": {},
     "outputs": [
      {
       "output_type": "stream",
       "stream": "stdout",
       "text": [
        "[]\n"
       ]
      }
     ],
     "prompt_number": 36
    },
    {
     "cell_type": "code",
     "collapsed": false,
     "input": [],
     "language": "python",
     "metadata": {},
     "outputs": [],
     "prompt_number": 29
    },
    {
     "cell_type": "code",
     "collapsed": false,
     "input": [],
     "language": "python",
     "metadata": {},
     "outputs": []
    }
   ],
   "metadata": {}
  }
 ]
}