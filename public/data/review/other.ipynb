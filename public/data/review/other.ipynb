{
 "metadata": {
  "name": "",
  "signature": "sha256:af3168f54496f7e01824c833ca15de1dd869be5699a1efbd3bd07decf7f727e6"
 },
 "nbformat": 3,
 "nbformat_minor": 0,
 "worksheets": [
  {
   "cells": [
    {
     "cell_type": "code",
     "collapsed": false,
     "input": [
      "from lxml import html\n",
      "import csv\n",
      "import os\n",
      "import requests\n",
      "\n",
      "#product = [0]\n",
      "#product = [str(x+501) for x in range(60)]\n",
      "product = [\"507\"]\n",
      "for i in product:\n",
      "    lomo = \"http://www.amazon.com/Fujifilm-Instax-Mini-Instant-Pink/product-reviews/B009ZM9R4O/ref=cm_cr_getr_d_paging_btm_\"+i+\"?ie=UTF8&showViewpoints=1&sortBy=recent&pageNumber=\"+i\n",
      "    lomo_page = requests.get(lomo)\n",
      "    lomo_tree = html.fromstring(lomo_page.content)\n",
      "    lomo_company = lomo_tree.xpath('//span[@class=\"a-size-base review-text\"]/text()')\n",
      "     \n",
      "    #lomo_company = lomo_tree.xpath('//p/text()')\n",
      "    #lomo_company = lomo_tree.xpath('//div/text()')\n",
      "    #file = \"/Users/Runyu/Desktop/csGOOD/spring16/text_analytics/project/review/fisheye.txt\"\n",
      "    print \"page\",i\n",
      "    print lomo_company\n",
      " "
     ],
     "language": "python",
     "metadata": {},
     "outputs": [
      {
       "output_type": "stream",
       "stream": "stdout",
       "text": [
        "page 507\n",
        "[\"It's a very good camera you just need to take pictures in a very well lighted room so the pictures, good otherwise the dark and look like pictures from the 70s. Also the pictures are small so make sure that you are aware of how small the pictures\", \"I love this thing. I am definitely not one of those canon camera type people. Don't get me wrong their pictures can be beautiful but I enjoy the convenience of not having to upload photos, fix them, send them, and pick up and pay process. Let me just say, I never develop them. Plus, if I want a detailed pictures to look at I'll just take it on my I-phone where I can control a lot more, duh.\", \"The quality of the pictures is really cute and slightly retro looking. The camera is always catching peoples attention especially because it looks like a little toy. And I have so much fun taking pictures with my friends. The only down side is you can't make copies of that one photo, I guess that's an upside too, you have fun trying to recreate that photo. This camera is also really convenient for travel, I think people wont try to steal it as much since it's not a professional camera. It's a reasonable price on amazon and if ever stolen the robber will have to spend more money to get more pictures.\", 'I really like the item, it was in mint condition but I wish the film was included with the package instead of buying it separately', 'I LOVE IT SO MUCH!! THE COLOR IS SO BEAUTIFUL! ALSO IT CAME 4 DAYS EARLIER THAN WHAT I EXPECTED. I LOVE LOVE LOVE LOVE THIS PRODUCT! IM SO GLAD I BOUGHT IT!', \"Shipping took longer than i thought, but it was worth the wait. It's a very cute camera, although I don't know why there was a thirty dollar price difference when comparing the pink with the blue one. Blue was my first choice, but I went with the cheaper pink. This camera is fun to use, I'm just mindful of what I choose to take pictures of because the film is the pricey point of this camera. I bought the (2) 10x2 packs for $13 each. As one of the other reviews said, that is a better deal than some of the big bundles out there. It's easy to use, but beware it takes some time to figure out how to center a picture since the viewfinder doesnt line up with the lens. Also, the flash is very bright. I found that it washed out a lot of my indoor pictures. I taped over it with some masking tape just to tone it down a bit. Other than that,  it is a fun camera and if you dont mind shelling out money for film then this is a good product\", 'I bought this camera for my 13 year old daughter and she loves it. It is nice size and just what we expected. Pictures come out nice as well.', \"I absolutely love this camera! It is just the cutest thing ever, and the picture's come out great! I would recommend this to anyone and everyone!\", 'Camera was the hit of the party along with a variety of props....instant Photo Booth!  Everyone had a photo to take home to remember the event.', \"I have fallen in love with this, it's a cheap and cute camera and plain adorable. It's small, which makes it easy to carry around. Easy to understand, and I love how the pictures turn out. It has been the best things have ever bought from Amazon and I will be getting more stuff from fujifilm.\", 'Luv it, pretty heavy & durable. The color is really cute. Worth what I paid for it. Wish it came with case']\n"
       ]
      }
     ],
     "prompt_number": 53
    },
    {
     "cell_type": "code",
     "collapsed": false,
     "input": [],
     "language": "python",
     "metadata": {},
     "outputs": []
    }
   ],
   "metadata": {}
  }
 ]
}