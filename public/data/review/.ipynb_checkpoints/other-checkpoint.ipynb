{
 "metadata": {
  "name": "",
  "signature": "sha256:dd04ac81fa4463ffe07790c10c695d4c0866396b593273e3bf64fbe0fd6cfdd5"
 },
 "nbformat": 3,
 "nbformat_minor": 0,
 "worksheets": [
  {
   "cells": [
    {
     "cell_type": "code",
     "collapsed": false,
     "input": [
      "from lxml import html\n",
      "import csv\n",
      "import os\n",
      "import requests\n",
      "\n",
      "product = [0]\n",
      "for i in product:\n",
      "    lomo = \"http://www.bhphotovideo.com/c/product/527838-REG/Lomography_561_Diana_Fixed_Focus_Medium.html\"\n",
      "    lomo_page = requests.get(lomo)\n",
      "    lomo_tree = html.fromstring(lomo_page.content)\n",
      "    #lomo_company = lomo_tree.xpath('//span[@class=\"a-size-base review-text\"]/text()')\n",
      "    #lomo_company = lomo_tree.xpath('//p/text()')\n",
      "    lomo_company = lomo_tree.xpath('//div[@class=\"reviews_load_more_button\"]/text()')\n",
      "    #file = \"/Users/Runyu/Desktop/csGOOD/spring16/text_analytics/project/review/fisheye.txt\"\n",
      "    print lomo_company\n",
      "  "
     ],
     "language": "python",
     "metadata": {},
     "outputs": [
      {
       "output_type": "stream",
       "stream": "stdout",
       "text": [
        "[]\n"
       ]
      }
     ],
     "prompt_number": 9
    },
    {
     "cell_type": "code",
     "collapsed": false,
     "input": [],
     "language": "python",
     "metadata": {},
     "outputs": []
    }
   ],
   "metadata": {}
  }
 ]
}